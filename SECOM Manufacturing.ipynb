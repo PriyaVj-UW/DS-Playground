{
 "cells": [
  {
   "cell_type": "code",
   "execution_count": 45,
   "metadata": {},
   "outputs": [],
   "source": [
    "#Import libraries\n",
    "\n",
    "import numpy as np\n",
    "import pandas as pd\n",
    "\n",
    "import matplotlib.pyplot as plt\n",
    "import seaborn as sns\n",
    "\n",
    "from sklearn.preprocessing import StandardScaler\n",
    "from sklearn.model_selection import train_test_split\n",
    "from sklearn.linear_model import LogisticRegression\n",
    "from sklearn.tree import DecisionTreeClassifier\n",
    "from sklearn.ensemble import RandomForestClassifier\n",
    "from sklearn.svm import LinearSVC\n",
    "from imblearn.over_sampling import SMOTE\n",
    "\n",
    "import os\n",
    "from sklearn.tree import export_graphviz\n",
    "from IPython.display import Image\n",
    "\n",
    "from sklearn.metrics import confusion_matrix\n",
    "from sklearn.metrics import accuracy_score\n",
    "from sklearn.metrics import precision_score\n",
    "from sklearn.metrics import recall_score\n",
    "from sklearn.metrics import roc_curve\n",
    "from sklearn.metrics import roc_auc_score\n",
    "from sklearn.metrics import auc\n",
    "from sklearn.metrics import classification_report\n",
    "\n",
    "from sklearn.feature_selection import mutual_info_classif\n",
    "from sklearn.feature_selection import RFE\n",
    "from sklearn.linear_model import Ridge\n",
    "from sklearn.linear_model import Lasso\n"
   ]
  },
  {
   "cell_type": "code",
   "execution_count": 2,
   "metadata": {},
   "outputs": [],
   "source": [
    "# Set Random Value\n",
    "SEED = 5000"
   ]
  },
  {
   "cell_type": "code",
   "execution_count": 3,
   "metadata": {},
   "outputs": [],
   "source": [
    "#import warnings\n",
    "import warnings\n",
    "warnings.filterwarnings(\"ignore\")"
   ]
  },
  {
   "cell_type": "code",
   "execution_count": 4,
   "metadata": {},
   "outputs": [
    {
     "data": {
      "text/html": [
       "<div>\n",
       "<style scoped>\n",
       "    .dataframe tbody tr th:only-of-type {\n",
       "        vertical-align: middle;\n",
       "    }\n",
       "\n",
       "    .dataframe tbody tr th {\n",
       "        vertical-align: top;\n",
       "    }\n",
       "\n",
       "    .dataframe thead th {\n",
       "        text-align: right;\n",
       "    }\n",
       "</style>\n",
       "<table border=\"1\" class=\"dataframe\">\n",
       "  <thead>\n",
       "    <tr style=\"text-align: right;\">\n",
       "      <th></th>\n",
       "      <th>3030.93</th>\n",
       "      <th>2564</th>\n",
       "      <th>2187.7333</th>\n",
       "      <th>1411.1265</th>\n",
       "      <th>1.3602</th>\n",
       "      <th>100</th>\n",
       "      <th>97.6133</th>\n",
       "      <th>0.1242</th>\n",
       "      <th>1.5005</th>\n",
       "      <th>0.0162</th>\n",
       "      <th>...</th>\n",
       "      <th>NaN.38</th>\n",
       "      <th>NaN.39</th>\n",
       "      <th>0.5005</th>\n",
       "      <th>0.0118</th>\n",
       "      <th>0.0035</th>\n",
       "      <th>2.363</th>\n",
       "      <th>NaN.40</th>\n",
       "      <th>NaN.41</th>\n",
       "      <th>NaN.42</th>\n",
       "      <th>NaN.43</th>\n",
       "    </tr>\n",
       "  </thead>\n",
       "  <tbody>\n",
       "    <tr>\n",
       "      <td>0</td>\n",
       "      <td>3095.78</td>\n",
       "      <td>2465.14</td>\n",
       "      <td>2230.4222</td>\n",
       "      <td>1463.6606</td>\n",
       "      <td>0.8294</td>\n",
       "      <td>100.0</td>\n",
       "      <td>102.3433</td>\n",
       "      <td>0.1247</td>\n",
       "      <td>1.4966</td>\n",
       "      <td>-0.0005</td>\n",
       "      <td>...</td>\n",
       "      <td>0.0060</td>\n",
       "      <td>208.2045</td>\n",
       "      <td>0.5019</td>\n",
       "      <td>0.0223</td>\n",
       "      <td>0.0055</td>\n",
       "      <td>4.4447</td>\n",
       "      <td>0.0096</td>\n",
       "      <td>0.0201</td>\n",
       "      <td>0.0060</td>\n",
       "      <td>208.2045</td>\n",
       "    </tr>\n",
       "    <tr>\n",
       "      <td>1</td>\n",
       "      <td>2932.61</td>\n",
       "      <td>2559.94</td>\n",
       "      <td>2186.4111</td>\n",
       "      <td>1698.0172</td>\n",
       "      <td>1.5102</td>\n",
       "      <td>100.0</td>\n",
       "      <td>95.4878</td>\n",
       "      <td>0.1241</td>\n",
       "      <td>1.4436</td>\n",
       "      <td>0.0041</td>\n",
       "      <td>...</td>\n",
       "      <td>0.0148</td>\n",
       "      <td>82.8602</td>\n",
       "      <td>0.4958</td>\n",
       "      <td>0.0157</td>\n",
       "      <td>0.0039</td>\n",
       "      <td>3.1745</td>\n",
       "      <td>0.0584</td>\n",
       "      <td>0.0484</td>\n",
       "      <td>0.0148</td>\n",
       "      <td>82.8602</td>\n",
       "    </tr>\n",
       "    <tr>\n",
       "      <td>2</td>\n",
       "      <td>2988.72</td>\n",
       "      <td>2479.90</td>\n",
       "      <td>2199.0333</td>\n",
       "      <td>909.7926</td>\n",
       "      <td>1.3204</td>\n",
       "      <td>100.0</td>\n",
       "      <td>104.2367</td>\n",
       "      <td>0.1217</td>\n",
       "      <td>1.4882</td>\n",
       "      <td>-0.0124</td>\n",
       "      <td>...</td>\n",
       "      <td>0.0044</td>\n",
       "      <td>73.8432</td>\n",
       "      <td>0.4990</td>\n",
       "      <td>0.0103</td>\n",
       "      <td>0.0025</td>\n",
       "      <td>2.0544</td>\n",
       "      <td>0.0202</td>\n",
       "      <td>0.0149</td>\n",
       "      <td>0.0044</td>\n",
       "      <td>73.8432</td>\n",
       "    </tr>\n",
       "    <tr>\n",
       "      <td>3</td>\n",
       "      <td>3032.24</td>\n",
       "      <td>2502.87</td>\n",
       "      <td>2233.3667</td>\n",
       "      <td>1326.5200</td>\n",
       "      <td>1.5334</td>\n",
       "      <td>100.0</td>\n",
       "      <td>100.3967</td>\n",
       "      <td>0.1235</td>\n",
       "      <td>1.5031</td>\n",
       "      <td>-0.0031</td>\n",
       "      <td>...</td>\n",
       "      <td>NaN</td>\n",
       "      <td>NaN</td>\n",
       "      <td>0.4800</td>\n",
       "      <td>0.4766</td>\n",
       "      <td>0.1045</td>\n",
       "      <td>99.3032</td>\n",
       "      <td>0.0202</td>\n",
       "      <td>0.0149</td>\n",
       "      <td>0.0044</td>\n",
       "      <td>73.8432</td>\n",
       "    </tr>\n",
       "    <tr>\n",
       "      <td>4</td>\n",
       "      <td>2946.25</td>\n",
       "      <td>2432.84</td>\n",
       "      <td>2233.3667</td>\n",
       "      <td>1326.5200</td>\n",
       "      <td>1.5334</td>\n",
       "      <td>100.0</td>\n",
       "      <td>100.3967</td>\n",
       "      <td>0.1235</td>\n",
       "      <td>1.5287</td>\n",
       "      <td>0.0167</td>\n",
       "      <td>...</td>\n",
       "      <td>0.0052</td>\n",
       "      <td>44.0077</td>\n",
       "      <td>0.4949</td>\n",
       "      <td>0.0189</td>\n",
       "      <td>0.0044</td>\n",
       "      <td>3.8276</td>\n",
       "      <td>0.0342</td>\n",
       "      <td>0.0151</td>\n",
       "      <td>0.0052</td>\n",
       "      <td>44.0077</td>\n",
       "    </tr>\n",
       "  </tbody>\n",
       "</table>\n",
       "<p>5 rows × 590 columns</p>\n",
       "</div>"
      ],
      "text/plain": [
       "   3030.93     2564  2187.7333  1411.1265  1.3602    100   97.6133  0.1242  \\\n",
       "0  3095.78  2465.14  2230.4222  1463.6606  0.8294  100.0  102.3433  0.1247   \n",
       "1  2932.61  2559.94  2186.4111  1698.0172  1.5102  100.0   95.4878  0.1241   \n",
       "2  2988.72  2479.90  2199.0333   909.7926  1.3204  100.0  104.2367  0.1217   \n",
       "3  3032.24  2502.87  2233.3667  1326.5200  1.5334  100.0  100.3967  0.1235   \n",
       "4  2946.25  2432.84  2233.3667  1326.5200  1.5334  100.0  100.3967  0.1235   \n",
       "\n",
       "   1.5005  0.0162  ...  NaN.38    NaN.39  0.5005  0.0118  0.0035    2.363  \\\n",
       "0  1.4966 -0.0005  ...  0.0060  208.2045  0.5019  0.0223  0.0055   4.4447   \n",
       "1  1.4436  0.0041  ...  0.0148   82.8602  0.4958  0.0157  0.0039   3.1745   \n",
       "2  1.4882 -0.0124  ...  0.0044   73.8432  0.4990  0.0103  0.0025   2.0544   \n",
       "3  1.5031 -0.0031  ...     NaN       NaN  0.4800  0.4766  0.1045  99.3032   \n",
       "4  1.5287  0.0167  ...  0.0052   44.0077  0.4949  0.0189  0.0044   3.8276   \n",
       "\n",
       "   NaN.40  NaN.41  NaN.42    NaN.43  \n",
       "0  0.0096  0.0201  0.0060  208.2045  \n",
       "1  0.0584  0.0484  0.0148   82.8602  \n",
       "2  0.0202  0.0149  0.0044   73.8432  \n",
       "3  0.0202  0.0149  0.0044   73.8432  \n",
       "4  0.0342  0.0151  0.0052   44.0077  \n",
       "\n",
       "[5 rows x 590 columns]"
      ]
     },
     "execution_count": 4,
     "metadata": {},
     "output_type": "execute_result"
    }
   ],
   "source": [
    "#Load the dataset\n",
    "df_secom = pd.read_csv('https://raw.githubusercontent.com/PriyaVj-UW/DS-Playground/master/secom.csv',sep = \" \")\n",
    "df_secom.head()"
   ]
  },
  {
   "cell_type": "code",
   "execution_count": 5,
   "metadata": {},
   "outputs": [],
   "source": [
    "#Load the first dataset with column names\n",
    "url = \"https://raw.githubusercontent.com/PriyaVj-UW/DS-Playground/master/secom.csv\"\n",
    "names = [\"features\" + str(x) for x in range(1,591)]\n",
    "df_secom = pd.read_csv(url,sep=\" \",names = names, na_values = \"Nan\")\n"
   ]
  },
  {
   "cell_type": "code",
   "execution_count": 6,
   "metadata": {},
   "outputs": [
    {
     "data": {
      "text/html": [
       "<div>\n",
       "<style scoped>\n",
       "    .dataframe tbody tr th:only-of-type {\n",
       "        vertical-align: middle;\n",
       "    }\n",
       "\n",
       "    .dataframe tbody tr th {\n",
       "        vertical-align: top;\n",
       "    }\n",
       "\n",
       "    .dataframe thead th {\n",
       "        text-align: right;\n",
       "    }\n",
       "</style>\n",
       "<table border=\"1\" class=\"dataframe\">\n",
       "  <thead>\n",
       "    <tr style=\"text-align: right;\">\n",
       "      <th></th>\n",
       "      <th>features1</th>\n",
       "      <th>features2</th>\n",
       "      <th>features3</th>\n",
       "      <th>features4</th>\n",
       "      <th>features5</th>\n",
       "      <th>features6</th>\n",
       "      <th>features7</th>\n",
       "      <th>features8</th>\n",
       "      <th>features9</th>\n",
       "      <th>features10</th>\n",
       "      <th>...</th>\n",
       "      <th>features581</th>\n",
       "      <th>features582</th>\n",
       "      <th>features583</th>\n",
       "      <th>features584</th>\n",
       "      <th>features585</th>\n",
       "      <th>features586</th>\n",
       "      <th>features587</th>\n",
       "      <th>features588</th>\n",
       "      <th>features589</th>\n",
       "      <th>features590</th>\n",
       "    </tr>\n",
       "  </thead>\n",
       "  <tbody>\n",
       "    <tr>\n",
       "      <td>0</td>\n",
       "      <td>3030.93</td>\n",
       "      <td>2564.00</td>\n",
       "      <td>2187.7333</td>\n",
       "      <td>1411.1265</td>\n",
       "      <td>1.3602</td>\n",
       "      <td>100.0</td>\n",
       "      <td>97.6133</td>\n",
       "      <td>0.1242</td>\n",
       "      <td>1.5005</td>\n",
       "      <td>0.0162</td>\n",
       "      <td>...</td>\n",
       "      <td>NaN</td>\n",
       "      <td>NaN</td>\n",
       "      <td>0.5005</td>\n",
       "      <td>0.0118</td>\n",
       "      <td>0.0035</td>\n",
       "      <td>2.3630</td>\n",
       "      <td>NaN</td>\n",
       "      <td>NaN</td>\n",
       "      <td>NaN</td>\n",
       "      <td>NaN</td>\n",
       "    </tr>\n",
       "    <tr>\n",
       "      <td>1</td>\n",
       "      <td>3095.78</td>\n",
       "      <td>2465.14</td>\n",
       "      <td>2230.4222</td>\n",
       "      <td>1463.6606</td>\n",
       "      <td>0.8294</td>\n",
       "      <td>100.0</td>\n",
       "      <td>102.3433</td>\n",
       "      <td>0.1247</td>\n",
       "      <td>1.4966</td>\n",
       "      <td>-0.0005</td>\n",
       "      <td>...</td>\n",
       "      <td>0.0060</td>\n",
       "      <td>208.2045</td>\n",
       "      <td>0.5019</td>\n",
       "      <td>0.0223</td>\n",
       "      <td>0.0055</td>\n",
       "      <td>4.4447</td>\n",
       "      <td>0.0096</td>\n",
       "      <td>0.0201</td>\n",
       "      <td>0.0060</td>\n",
       "      <td>208.2045</td>\n",
       "    </tr>\n",
       "    <tr>\n",
       "      <td>2</td>\n",
       "      <td>2932.61</td>\n",
       "      <td>2559.94</td>\n",
       "      <td>2186.4111</td>\n",
       "      <td>1698.0172</td>\n",
       "      <td>1.5102</td>\n",
       "      <td>100.0</td>\n",
       "      <td>95.4878</td>\n",
       "      <td>0.1241</td>\n",
       "      <td>1.4436</td>\n",
       "      <td>0.0041</td>\n",
       "      <td>...</td>\n",
       "      <td>0.0148</td>\n",
       "      <td>82.8602</td>\n",
       "      <td>0.4958</td>\n",
       "      <td>0.0157</td>\n",
       "      <td>0.0039</td>\n",
       "      <td>3.1745</td>\n",
       "      <td>0.0584</td>\n",
       "      <td>0.0484</td>\n",
       "      <td>0.0148</td>\n",
       "      <td>82.8602</td>\n",
       "    </tr>\n",
       "    <tr>\n",
       "      <td>3</td>\n",
       "      <td>2988.72</td>\n",
       "      <td>2479.90</td>\n",
       "      <td>2199.0333</td>\n",
       "      <td>909.7926</td>\n",
       "      <td>1.3204</td>\n",
       "      <td>100.0</td>\n",
       "      <td>104.2367</td>\n",
       "      <td>0.1217</td>\n",
       "      <td>1.4882</td>\n",
       "      <td>-0.0124</td>\n",
       "      <td>...</td>\n",
       "      <td>0.0044</td>\n",
       "      <td>73.8432</td>\n",
       "      <td>0.4990</td>\n",
       "      <td>0.0103</td>\n",
       "      <td>0.0025</td>\n",
       "      <td>2.0544</td>\n",
       "      <td>0.0202</td>\n",
       "      <td>0.0149</td>\n",
       "      <td>0.0044</td>\n",
       "      <td>73.8432</td>\n",
       "    </tr>\n",
       "    <tr>\n",
       "      <td>4</td>\n",
       "      <td>3032.24</td>\n",
       "      <td>2502.87</td>\n",
       "      <td>2233.3667</td>\n",
       "      <td>1326.5200</td>\n",
       "      <td>1.5334</td>\n",
       "      <td>100.0</td>\n",
       "      <td>100.3967</td>\n",
       "      <td>0.1235</td>\n",
       "      <td>1.5031</td>\n",
       "      <td>-0.0031</td>\n",
       "      <td>...</td>\n",
       "      <td>NaN</td>\n",
       "      <td>NaN</td>\n",
       "      <td>0.4800</td>\n",
       "      <td>0.4766</td>\n",
       "      <td>0.1045</td>\n",
       "      <td>99.3032</td>\n",
       "      <td>0.0202</td>\n",
       "      <td>0.0149</td>\n",
       "      <td>0.0044</td>\n",
       "      <td>73.8432</td>\n",
       "    </tr>\n",
       "  </tbody>\n",
       "</table>\n",
       "<p>5 rows × 590 columns</p>\n",
       "</div>"
      ],
      "text/plain": [
       "   features1  features2  features3  features4  features5  features6  \\\n",
       "0    3030.93    2564.00  2187.7333  1411.1265     1.3602      100.0   \n",
       "1    3095.78    2465.14  2230.4222  1463.6606     0.8294      100.0   \n",
       "2    2932.61    2559.94  2186.4111  1698.0172     1.5102      100.0   \n",
       "3    2988.72    2479.90  2199.0333   909.7926     1.3204      100.0   \n",
       "4    3032.24    2502.87  2233.3667  1326.5200     1.5334      100.0   \n",
       "\n",
       "   features7  features8  features9  features10  ...  features581  features582  \\\n",
       "0    97.6133     0.1242     1.5005      0.0162  ...          NaN          NaN   \n",
       "1   102.3433     0.1247     1.4966     -0.0005  ...       0.0060     208.2045   \n",
       "2    95.4878     0.1241     1.4436      0.0041  ...       0.0148      82.8602   \n",
       "3   104.2367     0.1217     1.4882     -0.0124  ...       0.0044      73.8432   \n",
       "4   100.3967     0.1235     1.5031     -0.0031  ...          NaN          NaN   \n",
       "\n",
       "   features583  features584  features585  features586  features587  \\\n",
       "0       0.5005       0.0118       0.0035       2.3630          NaN   \n",
       "1       0.5019       0.0223       0.0055       4.4447       0.0096   \n",
       "2       0.4958       0.0157       0.0039       3.1745       0.0584   \n",
       "3       0.4990       0.0103       0.0025       2.0544       0.0202   \n",
       "4       0.4800       0.4766       0.1045      99.3032       0.0202   \n",
       "\n",
       "   features588  features589  features590  \n",
       "0          NaN          NaN          NaN  \n",
       "1       0.0201       0.0060     208.2045  \n",
       "2       0.0484       0.0148      82.8602  \n",
       "3       0.0149       0.0044      73.8432  \n",
       "4       0.0149       0.0044      73.8432  \n",
       "\n",
       "[5 rows x 590 columns]"
      ]
     },
     "execution_count": 6,
     "metadata": {},
     "output_type": "execute_result"
    }
   ],
   "source": [
    "df_secom.head()"
   ]
  },
  {
   "cell_type": "code",
   "execution_count": 7,
   "metadata": {},
   "outputs": [
    {
     "data": {
      "text/html": [
       "<div>\n",
       "<style scoped>\n",
       "    .dataframe tbody tr th:only-of-type {\n",
       "        vertical-align: middle;\n",
       "    }\n",
       "\n",
       "    .dataframe tbody tr th {\n",
       "        vertical-align: top;\n",
       "    }\n",
       "\n",
       "    .dataframe thead th {\n",
       "        text-align: right;\n",
       "    }\n",
       "</style>\n",
       "<table border=\"1\" class=\"dataframe\">\n",
       "  <thead>\n",
       "    <tr style=\"text-align: right;\">\n",
       "      <th></th>\n",
       "      <th>classification</th>\n",
       "      <th>date</th>\n",
       "    </tr>\n",
       "  </thead>\n",
       "  <tbody>\n",
       "    <tr>\n",
       "      <td>0</td>\n",
       "      <td>-1</td>\n",
       "      <td>2008-07-19 11:55:00</td>\n",
       "    </tr>\n",
       "    <tr>\n",
       "      <td>1</td>\n",
       "      <td>-1</td>\n",
       "      <td>2008-07-19 12:32:00</td>\n",
       "    </tr>\n",
       "    <tr>\n",
       "      <td>2</td>\n",
       "      <td>1</td>\n",
       "      <td>2008-07-19 13:17:00</td>\n",
       "    </tr>\n",
       "    <tr>\n",
       "      <td>3</td>\n",
       "      <td>-1</td>\n",
       "      <td>2008-07-19 14:43:00</td>\n",
       "    </tr>\n",
       "    <tr>\n",
       "      <td>4</td>\n",
       "      <td>-1</td>\n",
       "      <td>2008-07-19 15:22:00</td>\n",
       "    </tr>\n",
       "  </tbody>\n",
       "</table>\n",
       "</div>"
      ],
      "text/plain": [
       "   classification                date\n",
       "0              -1 2008-07-19 11:55:00\n",
       "1              -1 2008-07-19 12:32:00\n",
       "2               1 2008-07-19 13:17:00\n",
       "3              -1 2008-07-19 14:43:00\n",
       "4              -1 2008-07-19 15:22:00"
      ]
     },
     "execution_count": 7,
     "metadata": {},
     "output_type": "execute_result"
    }
   ],
   "source": [
    "#load teh second dataset with column names\n",
    "url_1 = \"https://raw.githubusercontent.com/PriyaVj-UW/DS-Playground/master/secom_labels.csv\"\n",
    "secom_labels = pd.read_csv(url_1,sep = \" \",names = [\"classification\",\"date\"],parse_dates = [\"date\"],na_values = \"Nan\")\n",
    "secom_labels.head()"
   ]
  },
  {
   "cell_type": "code",
   "execution_count": 8,
   "metadata": {},
   "outputs": [
    {
     "data": {
      "text/html": [
       "<div>\n",
       "<style scoped>\n",
       "    .dataframe tbody tr th:only-of-type {\n",
       "        vertical-align: middle;\n",
       "    }\n",
       "\n",
       "    .dataframe tbody tr th {\n",
       "        vertical-align: top;\n",
       "    }\n",
       "\n",
       "    .dataframe thead th {\n",
       "        text-align: right;\n",
       "    }\n",
       "</style>\n",
       "<table border=\"1\" class=\"dataframe\">\n",
       "  <thead>\n",
       "    <tr style=\"text-align: right;\">\n",
       "      <th></th>\n",
       "      <th>features1</th>\n",
       "      <th>features2</th>\n",
       "      <th>features3</th>\n",
       "      <th>features4</th>\n",
       "      <th>features5</th>\n",
       "      <th>features6</th>\n",
       "      <th>features7</th>\n",
       "      <th>features8</th>\n",
       "      <th>features9</th>\n",
       "      <th>features10</th>\n",
       "      <th>...</th>\n",
       "      <th>features583</th>\n",
       "      <th>features584</th>\n",
       "      <th>features585</th>\n",
       "      <th>features586</th>\n",
       "      <th>features587</th>\n",
       "      <th>features588</th>\n",
       "      <th>features589</th>\n",
       "      <th>features590</th>\n",
       "      <th>classification</th>\n",
       "      <th>date</th>\n",
       "    </tr>\n",
       "  </thead>\n",
       "  <tbody>\n",
       "    <tr>\n",
       "      <td>0</td>\n",
       "      <td>3030.93</td>\n",
       "      <td>2564.00</td>\n",
       "      <td>2187.7333</td>\n",
       "      <td>1411.1265</td>\n",
       "      <td>1.3602</td>\n",
       "      <td>100.0</td>\n",
       "      <td>97.6133</td>\n",
       "      <td>0.1242</td>\n",
       "      <td>1.5005</td>\n",
       "      <td>0.0162</td>\n",
       "      <td>...</td>\n",
       "      <td>0.5005</td>\n",
       "      <td>0.0118</td>\n",
       "      <td>0.0035</td>\n",
       "      <td>2.3630</td>\n",
       "      <td>NaN</td>\n",
       "      <td>NaN</td>\n",
       "      <td>NaN</td>\n",
       "      <td>NaN</td>\n",
       "      <td>-1</td>\n",
       "      <td>2008-07-19 11:55:00</td>\n",
       "    </tr>\n",
       "    <tr>\n",
       "      <td>1</td>\n",
       "      <td>3095.78</td>\n",
       "      <td>2465.14</td>\n",
       "      <td>2230.4222</td>\n",
       "      <td>1463.6606</td>\n",
       "      <td>0.8294</td>\n",
       "      <td>100.0</td>\n",
       "      <td>102.3433</td>\n",
       "      <td>0.1247</td>\n",
       "      <td>1.4966</td>\n",
       "      <td>-0.0005</td>\n",
       "      <td>...</td>\n",
       "      <td>0.5019</td>\n",
       "      <td>0.0223</td>\n",
       "      <td>0.0055</td>\n",
       "      <td>4.4447</td>\n",
       "      <td>0.0096</td>\n",
       "      <td>0.0201</td>\n",
       "      <td>0.0060</td>\n",
       "      <td>208.2045</td>\n",
       "      <td>-1</td>\n",
       "      <td>2008-07-19 12:32:00</td>\n",
       "    </tr>\n",
       "    <tr>\n",
       "      <td>2</td>\n",
       "      <td>2932.61</td>\n",
       "      <td>2559.94</td>\n",
       "      <td>2186.4111</td>\n",
       "      <td>1698.0172</td>\n",
       "      <td>1.5102</td>\n",
       "      <td>100.0</td>\n",
       "      <td>95.4878</td>\n",
       "      <td>0.1241</td>\n",
       "      <td>1.4436</td>\n",
       "      <td>0.0041</td>\n",
       "      <td>...</td>\n",
       "      <td>0.4958</td>\n",
       "      <td>0.0157</td>\n",
       "      <td>0.0039</td>\n",
       "      <td>3.1745</td>\n",
       "      <td>0.0584</td>\n",
       "      <td>0.0484</td>\n",
       "      <td>0.0148</td>\n",
       "      <td>82.8602</td>\n",
       "      <td>1</td>\n",
       "      <td>2008-07-19 13:17:00</td>\n",
       "    </tr>\n",
       "    <tr>\n",
       "      <td>3</td>\n",
       "      <td>2988.72</td>\n",
       "      <td>2479.90</td>\n",
       "      <td>2199.0333</td>\n",
       "      <td>909.7926</td>\n",
       "      <td>1.3204</td>\n",
       "      <td>100.0</td>\n",
       "      <td>104.2367</td>\n",
       "      <td>0.1217</td>\n",
       "      <td>1.4882</td>\n",
       "      <td>-0.0124</td>\n",
       "      <td>...</td>\n",
       "      <td>0.4990</td>\n",
       "      <td>0.0103</td>\n",
       "      <td>0.0025</td>\n",
       "      <td>2.0544</td>\n",
       "      <td>0.0202</td>\n",
       "      <td>0.0149</td>\n",
       "      <td>0.0044</td>\n",
       "      <td>73.8432</td>\n",
       "      <td>-1</td>\n",
       "      <td>2008-07-19 14:43:00</td>\n",
       "    </tr>\n",
       "    <tr>\n",
       "      <td>4</td>\n",
       "      <td>3032.24</td>\n",
       "      <td>2502.87</td>\n",
       "      <td>2233.3667</td>\n",
       "      <td>1326.5200</td>\n",
       "      <td>1.5334</td>\n",
       "      <td>100.0</td>\n",
       "      <td>100.3967</td>\n",
       "      <td>0.1235</td>\n",
       "      <td>1.5031</td>\n",
       "      <td>-0.0031</td>\n",
       "      <td>...</td>\n",
       "      <td>0.4800</td>\n",
       "      <td>0.4766</td>\n",
       "      <td>0.1045</td>\n",
       "      <td>99.3032</td>\n",
       "      <td>0.0202</td>\n",
       "      <td>0.0149</td>\n",
       "      <td>0.0044</td>\n",
       "      <td>73.8432</td>\n",
       "      <td>-1</td>\n",
       "      <td>2008-07-19 15:22:00</td>\n",
       "    </tr>\n",
       "  </tbody>\n",
       "</table>\n",
       "<p>5 rows × 592 columns</p>\n",
       "</div>"
      ],
      "text/plain": [
       "   features1  features2  features3  features4  features5  features6  \\\n",
       "0    3030.93    2564.00  2187.7333  1411.1265     1.3602      100.0   \n",
       "1    3095.78    2465.14  2230.4222  1463.6606     0.8294      100.0   \n",
       "2    2932.61    2559.94  2186.4111  1698.0172     1.5102      100.0   \n",
       "3    2988.72    2479.90  2199.0333   909.7926     1.3204      100.0   \n",
       "4    3032.24    2502.87  2233.3667  1326.5200     1.5334      100.0   \n",
       "\n",
       "   features7  features8  features9  features10  ...  features583  features584  \\\n",
       "0    97.6133     0.1242     1.5005      0.0162  ...       0.5005       0.0118   \n",
       "1   102.3433     0.1247     1.4966     -0.0005  ...       0.5019       0.0223   \n",
       "2    95.4878     0.1241     1.4436      0.0041  ...       0.4958       0.0157   \n",
       "3   104.2367     0.1217     1.4882     -0.0124  ...       0.4990       0.0103   \n",
       "4   100.3967     0.1235     1.5031     -0.0031  ...       0.4800       0.4766   \n",
       "\n",
       "   features585  features586  features587  features588  features589  \\\n",
       "0       0.0035       2.3630          NaN          NaN          NaN   \n",
       "1       0.0055       4.4447       0.0096       0.0201       0.0060   \n",
       "2       0.0039       3.1745       0.0584       0.0484       0.0148   \n",
       "3       0.0025       2.0544       0.0202       0.0149       0.0044   \n",
       "4       0.1045      99.3032       0.0202       0.0149       0.0044   \n",
       "\n",
       "   features590  classification                date  \n",
       "0          NaN              -1 2008-07-19 11:55:00  \n",
       "1     208.2045              -1 2008-07-19 12:32:00  \n",
       "2      82.8602               1 2008-07-19 13:17:00  \n",
       "3      73.8432              -1 2008-07-19 14:43:00  \n",
       "4      73.8432              -1 2008-07-19 15:22:00  \n",
       "\n",
       "[5 rows x 592 columns]"
      ]
     },
     "execution_count": 8,
     "metadata": {},
     "output_type": "execute_result"
    }
   ],
   "source": [
    "#Merge two datasets\n",
    "secom_merged = pd.merge(df_secom,secom_labels,left_index = True,right_index = True)\n",
    "secom_merged.head()"
   ]
  },
  {
   "cell_type": "code",
   "execution_count": 9,
   "metadata": {},
   "outputs": [],
   "source": [
    "secom_merged.drop('date',axis = 1,inplace = True)"
   ]
  },
  {
   "cell_type": "code",
   "execution_count": 10,
   "metadata": {},
   "outputs": [
    {
     "data": {
      "text/plain": [
       "-1    1463\n",
       " 1     104\n",
       "Name: classification, dtype: int64"
      ]
     },
     "execution_count": 10,
     "metadata": {},
     "output_type": "execute_result"
    }
   ],
   "source": [
    "secom_merged['classification'].value_counts()"
   ]
  },
  {
   "cell_type": "code",
   "execution_count": 11,
   "metadata": {},
   "outputs": [
    {
     "data": {
      "text/plain": [
       "features1          6\n",
       "features2          7\n",
       "features3         14\n",
       "features4         14\n",
       "features5         14\n",
       "                  ..\n",
       "features587        1\n",
       "features588        1\n",
       "features589        1\n",
       "features590        1\n",
       "classification     0\n",
       "Length: 591, dtype: int64"
      ]
     },
     "execution_count": 11,
     "metadata": {},
     "output_type": "execute_result"
    }
   ],
   "source": [
    "secom_merged.isnull().sum()"
   ]
  },
  {
   "cell_type": "code",
   "execution_count": 12,
   "metadata": {},
   "outputs": [
    {
     "name": "stdout",
     "output_type": "stream",
     "text": [
      "Index(['features1', 'features2', 'features3', 'features4', 'features5',\n",
      "       'features6', 'features7', 'features8', 'features9', 'features10',\n",
      "       ...\n",
      "       'features582', 'features583', 'features584', 'features585',\n",
      "       'features586', 'features587', 'features588', 'features589',\n",
      "       'features590', 'classification'],\n",
      "      dtype='object', length=591)\n",
      "[   6    7   14   14   14   14   14    9    2    2    2    2    2    3\n",
      "    3    3    3    3    3   10    0    2    2    2    2    2    2    2\n",
      "    2    2    2    2    1    1    1    1    1    1    1    1   24   24\n",
      "    1    1    1    1    1    1    1    1    1    1    1    4    4    4\n",
      "    4    4    4    7    6    6    6    7    7    7    6    6    6    6\n",
      "    6    6  794  794    6   24   24   24   24   24   24   24   24    1\n",
      "   12 1341    0    0    0   51   51    6    2    2    6    6    6    6\n",
      "    6    6    6    6    6    2    2    6    6    6    6 1018 1018 1018\n",
      "  715    0    0    0    0    0   24    0    0    9    9    9    9    9\n",
      "    9    9    9    9    9    9    8    8    8    5    6    7   14   14\n",
      "   14   14   14    9    2    2    2    2    2    3    3    3    3    3\n",
      "    3   10    0 1429 1429    2    2    2    2    2    2    2    2    2\n",
      "    2    2    1    1    1    1    1    1    1    1   24    1    1    1\n",
      "    1    1    1    1    1    1    1    1    4    4    4    4    4    4\n",
      "    7    6    6    6    7    7    7    6    6    6    6    6    6    6\n",
      "   24   24   24   24   24   24   24   24    1   12 1341    0    0    0\n",
      "   51   51    6    2    2    6    6    6    6    6    6    6    6    6\n",
      "    2    2    6    6    6    6 1018 1018 1018  715    0    0    0    0\n",
      "    0   24    0    0    9    9    9    9    9    9    9    9    9    9\n",
      "    9    8    8    8    5    6    7   14   14   14   14   14    9    2\n",
      "    2    2    2    2    3    3    3    3    3    3   10    0 1429 1429\n",
      "    2    2    2    2    2    2    2    2    2    2    2    1    1    1\n",
      "    1    1    1    1    1   24   24    1    1    1    1    1    1    1\n",
      "    1    1    1    1    4    4    4    4    4    4    7    6    6    6\n",
      "    7    7    7    6    6    6    6    6    6  794  794    6   24   24\n",
      "   24   24   24   24   24   24    1   12 1341    0    0    0   51   51\n",
      "    6    2    2    6    6    6    6    6    6    6    6    6    2    2\n",
      "    6    6    6    6 1018 1018 1018  715    0    0    0    0    0   24\n",
      "    0    0    9    9    9    9    9    9    9    9    9    9    9    8\n",
      "    8    8    5    6    7   14   14   14   14   14    9    2    2    2\n",
      "    2    2    3    3    3    3    3    3   10    0    2    2    2    2\n",
      "    2    2    2    2    2    2    2    1    1    1    1    1    1    1\n",
      "    1   24   24    1    1    1    1    1    1    1    1    1    1    1\n",
      "    4    4    4    4    4    4    7    6    6    6    7    7    7    6\n",
      "    6    6    6    6    6    6   24   24   24   24   24   24   24   24\n",
      "    1   12 1341    0    0    0   51   51    6    2    2    6    6    6\n",
      "    6    6    6    6    6    6    2    2    6    6    6    6 1018 1018\n",
      " 1018  715    0    0    0    0    0   24    0    0    9    9    9    9\n",
      "    9    9    9    9    9    9    9    8    8    8    2    2    2    2\n",
      "  260  260  260  260  260  260  260  260  260  260  260  260    1    1\n",
      "    1    1  273  273  273  273  273  273  273  273    0    0    0    0\n",
      "    0    0    0    0  949  949  949  949    1    1    1    1    1    1\n",
      "    1    1    0]\n"
     ]
    }
   ],
   "source": [
    "featuresNullCount = secom_merged.isnull().sum()\n",
    "#print (featuresNullCount)\n",
    "print(featuresNullCount.keys())\n",
    "print(featuresNullCount.values)"
   ]
  },
  {
   "cell_type": "code",
   "execution_count": 13,
   "metadata": {},
   "outputs": [
    {
     "name": "stdout",
     "output_type": "stream",
     "text": [
      "features86 1341\n",
      "features110 1018\n",
      "features111 1018\n",
      "features112 1018\n",
      "features158 1429\n",
      "features159 1429\n",
      "features221 1341\n",
      "features245 1018\n",
      "features246 1018\n",
      "features247 1018\n",
      "features293 1429\n",
      "features294 1429\n",
      "features359 1341\n",
      "features383 1018\n",
      "features384 1018\n",
      "features385 1018\n",
      "features493 1341\n",
      "features517 1018\n",
      "features518 1018\n",
      "features519 1018\n"
     ]
    }
   ],
   "source": [
    "colsWithNanValues = []\n",
    "for i in featuresNullCount.keys():\n",
    "    if(featuresNullCount[i]> 1000):\n",
    "        print(i,featuresNullCount[i])\n",
    "        colsWithNanValues.append(i)\n",
    "    \n"
   ]
  },
  {
   "cell_type": "code",
   "execution_count": 14,
   "metadata": {},
   "outputs": [
    {
     "name": "stdout",
     "output_type": "stream",
     "text": [
      "['features86', 'features110', 'features111', 'features112', 'features158', 'features159', 'features221', 'features245', 'features246', 'features247', 'features293', 'features294', 'features359', 'features383', 'features384', 'features385', 'features493', 'features517', 'features518', 'features519']\n"
     ]
    }
   ],
   "source": [
    "print(colsWithNanValues)"
   ]
  },
  {
   "cell_type": "code",
   "execution_count": 15,
   "metadata": {},
   "outputs": [],
   "source": [
    "secom_merged.drop(colsWithNanValues,axis = 1,inplace = True)"
   ]
  },
  {
   "cell_type": "code",
   "execution_count": 16,
   "metadata": {},
   "outputs": [
    {
     "data": {
      "text/plain": [
       "(1567, 571)"
      ]
     },
     "execution_count": 16,
     "metadata": {},
     "output_type": "execute_result"
    }
   ],
   "source": [
    "secom_merged.shape"
   ]
  },
  {
   "cell_type": "code",
   "execution_count": 17,
   "metadata": {},
   "outputs": [],
   "source": [
    "secom_merged = secom_merged.apply(lambda x: x.fillna(x.mean()))"
   ]
  },
  {
   "cell_type": "code",
   "execution_count": 18,
   "metadata": {},
   "outputs": [
    {
     "data": {
      "text/plain": [
       "features1         0\n",
       "features2         0\n",
       "features3         0\n",
       "features4         0\n",
       "features5         0\n",
       "                 ..\n",
       "features587       0\n",
       "features588       0\n",
       "features589       0\n",
       "features590       0\n",
       "classification    0\n",
       "Length: 571, dtype: int64"
      ]
     },
     "execution_count": 18,
     "metadata": {},
     "output_type": "execute_result"
    }
   ],
   "source": [
    "secom_merged.isnull().sum()"
   ]
  },
  {
   "cell_type": "markdown",
   "metadata": {},
   "source": [
    "### Data Split"
   ]
  },
  {
   "cell_type": "code",
   "execution_count": 19,
   "metadata": {},
   "outputs": [],
   "source": [
    "# seperate train, tune and Test set\n",
    "secom_merged_train,secom_merged_tune_test = train_test_split(secom_merged,test_size = 0.2,\n",
    "                               random_state = SEED,\n",
    "                               shuffle = True,\n",
    "                               stratify = secom_merged['classification'])"
   ]
  },
  {
   "cell_type": "code",
   "execution_count": 20,
   "metadata": {},
   "outputs": [],
   "source": [
    "secom_merged_tune, secom_merged_test = train_test_split(secom_merged_tune_test,\n",
    "                                                       test_size = 0.5,\n",
    "                                                       random_state = SEED,\n",
    "                                                       shuffle = True,\n",
    "                                                       stratify = None)"
   ]
  },
  {
   "cell_type": "code",
   "execution_count": 21,
   "metadata": {},
   "outputs": [
    {
     "name": "stdout",
     "output_type": "stream",
     "text": [
      "(1567, 571)\n",
      "(1253, 571)\n",
      "(157, 571)\n",
      "(157, 571)\n"
     ]
    }
   ],
   "source": [
    "print(secom_merged.shape)\n",
    "print(secom_merged_train.shape)\n",
    "print(secom_merged_tune.shape)\n",
    "print(secom_merged_test.shape)"
   ]
  },
  {
   "cell_type": "markdown",
   "metadata": {},
   "source": [
    "### Feature Scaling"
   ]
  },
  {
   "cell_type": "code",
   "execution_count": 22,
   "metadata": {},
   "outputs": [
    {
     "data": {
      "text/plain": [
       "StandardScaler(copy=True, with_mean=True, with_std=True)"
      ]
     },
     "execution_count": 22,
     "metadata": {},
     "output_type": "execute_result"
    }
   ],
   "source": [
    "sc = StandardScaler()\n",
    "sc.fit(secom_merged_train)"
   ]
  },
  {
   "cell_type": "code",
   "execution_count": 23,
   "metadata": {},
   "outputs": [
    {
     "data": {
      "text/plain": [
       "features1         float64\n",
       "features2         float64\n",
       "features3         float64\n",
       "features4         float64\n",
       "features5         float64\n",
       "                   ...   \n",
       "features587       float64\n",
       "features588       float64\n",
       "features589       float64\n",
       "features590       float64\n",
       "classification      int64\n",
       "Length: 571, dtype: object"
      ]
     },
     "execution_count": 23,
     "metadata": {},
     "output_type": "execute_result"
    }
   ],
   "source": [
    "secom_merged.dtypes"
   ]
  },
  {
   "cell_type": "code",
   "execution_count": 24,
   "metadata": {},
   "outputs": [],
   "source": [
    "y_train = secom_merged_train['classification'].to_numpy()\n",
    "y_tune = secom_merged_tune['classification'].to_numpy()\n",
    "y_test = secom_merged_test['classification'].to_numpy()\n"
   ]
  },
  {
   "cell_type": "code",
   "execution_count": 25,
   "metadata": {},
   "outputs": [],
   "source": [
    "secom_merged_train = secom_merged_train.drop(['classification'],axis = 1)\n",
    "secom_merged_tune = secom_merged_tune.drop(['classification'],axis = 1)\n",
    "secom_merged_test = secom_merged_test.drop(['classification'],axis = 1)"
   ]
  },
  {
   "cell_type": "code",
   "execution_count": 26,
   "metadata": {},
   "outputs": [],
   "source": [
    "x_train = secom_merged_train.to_numpy()\n",
    "x_tune = secom_merged_tune.to_numpy()\n",
    "x_test = secom_merged_test.to_numpy()"
   ]
  },
  {
   "cell_type": "code",
   "execution_count": 27,
   "metadata": {},
   "outputs": [],
   "source": [
    "feature_names = secom_merged_train.columns"
   ]
  },
  {
   "cell_type": "markdown",
   "metadata": {},
   "source": [
    "\n",
    "### Mitigate class imbalance using SMOTE"
   ]
  },
  {
   "cell_type": "code",
   "execution_count": 28,
   "metadata": {},
   "outputs": [
    {
     "name": "stdout",
     "output_type": "stream",
     "text": [
      "SMOTE(k_neighbors=5, kind='deprecated', m_neighbors='deprecated', n_jobs=1,\n",
      "      out_step='deprecated', random_state=5000, ratio=None,\n",
      "      sampling_strategy='auto', svm_estimator='deprecated')\n"
     ]
    }
   ],
   "source": [
    "smt = SMOTE(random_state=SEED)\n",
    "print(smt)\n",
    "\n",
    "x_train_res,y_train_res = smt.fit_resample(x_train,y_train)"
   ]
  },
  {
   "cell_type": "code",
   "execution_count": 29,
   "metadata": {},
   "outputs": [
    {
     "name": "stdout",
     "output_type": "stream",
     "text": [
      "(1253, 570)\n",
      "(2340, 570)\n",
      "(1253,)\n",
      "(2340,)\n"
     ]
    }
   ],
   "source": [
    "print(x_train.shape)\n",
    "print(x_train_res.shape)\n",
    "\n",
    "print(y_train.shape)\n",
    "print(y_train_res.shape)"
   ]
  },
  {
   "cell_type": "code",
   "execution_count": 30,
   "metadata": {},
   "outputs": [
    {
     "name": "stdout",
     "output_type": "stream",
     "text": [
      "col_0  count\n",
      "row_0       \n",
      "-1      1170\n",
      " 1      1170\n"
     ]
    }
   ],
   "source": [
    "print(pd.crosstab(y_train_res,\"count\"))\n"
   ]
  },
  {
   "cell_type": "markdown",
   "metadata": {},
   "source": [
    "### Decision Tree Model"
   ]
  },
  {
   "cell_type": "code",
   "execution_count": 31,
   "metadata": {},
   "outputs": [
    {
     "data": {
      "text/plain": [
       "DecisionTreeClassifier(class_weight=None, criterion='gini', max_depth=4,\n",
       "                       max_features=None, max_leaf_nodes=None,\n",
       "                       min_impurity_decrease=0.0, min_impurity_split=None,\n",
       "                       min_samples_leaf=1, min_samples_split=2,\n",
       "                       min_weight_fraction_leaf=0.0, presort=False,\n",
       "                       random_state=None, splitter='best')"
      ]
     },
     "execution_count": 31,
     "metadata": {},
     "output_type": "execute_result"
    }
   ],
   "source": [
    "tree = DecisionTreeClassifier(criterion=\"gini\",max_depth=4)\n",
    "tree.fit(x_train_res,y_train_res)"
   ]
  },
  {
   "cell_type": "code",
   "execution_count": 32,
   "metadata": {},
   "outputs": [],
   "source": [
    "#Show Tree method to display the Tree\n",
    "def show_tree(out_name, model, feature_names):\n",
    "    dotfile = open(out_name + \".dot\", \"w\")\n",
    "    export_graphviz(model, out_file=dotfile, filled=True, rounded=True, feature_names=feature_names)\n",
    "    dotfile.close()\n",
    "\n",
    "    os.system(\"dot -Tpng {}.dot -o {}.png\".format(out_name, out_name))\n",
    "\n",
    "    return(Image(filename=out_name + \".png\", width=500, height=500))"
   ]
  },
  {
   "cell_type": "code",
   "execution_count": 34,
   "metadata": {},
   "outputs": [],
   "source": [
    "#show_tree(out_name=\"secom_tree\", model=tree, feature_names=feature_names)"
   ]
  },
  {
   "cell_type": "markdown",
   "metadata": {},
   "source": [
    "### Model Performance on Tune set\n"
   ]
  },
  {
   "cell_type": "code",
   "execution_count": 38,
   "metadata": {},
   "outputs": [],
   "source": [
    "def metrics(modelName,x_tune,y_tune):\n",
    "    y_tune_pred = modelName.predict(x_tune)\n",
    "    cm = confusion_matrix(y_true=y_tune,y_pred=y_tune_pred)\n",
    "    print(cm)\n",
    "    \n",
    "    accuracyScore = accuracy_score(y_true=y_tune,y_pred=y_tune_pred)\n",
    "    print('Accuracy of tune set: ' + str(accuracyScore))\n",
    "    \n",
    "    #Draw ROC curve\n",
    "    y_tune_prob = modelName.predict_proba(x_tune)[:,1]\n",
    "    fpr,tpr,thresholds = roc_curve(y_true=y_tune,y_score=y_tune_prob)\n",
    "    roc_auc = roc_auc_score(y_true=y_tune,y_score=y_tune_prob)    \n",
    "    \n",
    "    plt.plot(fpr, tpr, color=\"blue\", label=\"AUC = %0.2f\" % roc_auc)\n",
    "    plt.plot([0, 1], [0, 1], color=\"red\", linestyle=\"--\", lw=1)\n",
    "    plt.title(\"Receiver Operating Characteristic\")\n",
    "    plt.xlabel(\"False Positive Rate\")\n",
    "    plt.ylabel(\"True Positive Rate\")\n",
    "    plt.legend(loc=\"lower right\")\n",
    "    plt.xlim([-0.02, 1.02])\n",
    "    plt.ylim([-0.02, 1.02])\n",
    "    plt.show()\n",
    "    \n",
    "    #Classification Report\n",
    "    print(classification_report(y_true=y_tune,y_pred=y_tune_pred))"
   ]
  },
  {
   "cell_type": "code",
   "execution_count": 39,
   "metadata": {},
   "outputs": [
    {
     "name": "stdout",
     "output_type": "stream",
     "text": [
      "[[111  33]\n",
      " [ 10   3]]\n",
      "Accuracy of tune set: 0.7261146496815286\n"
     ]
    },
    {
     "data": {
      "image/png": "[encoded data removed]",
      "text/plain": [
       "<Figure size 432x288 with 1 Axes>"
      ]
     },
     "metadata": {
      "needs_background": "light"
     },
     "output_type": "display_data"
    },
    {
     "name": "stdout",
     "output_type": "stream",
     "text": [
      "              precision    recall  f1-score   support\n",
      "\n",
      "          -1       0.92      0.77      0.84       144\n",
      "           1       0.08      0.23      0.12        13\n",
      "\n",
      "    accuracy                           0.73       157\n",
      "   macro avg       0.50      0.50      0.48       157\n",
      "weighted avg       0.85      0.73      0.78       157\n",
      "\n"
     ]
    }
   ],
   "source": [
    "metrics(tree,x_tune,y_tune)"
   ]
  },
  {
   "cell_type": "markdown",
   "metadata": {},
   "source": [
    "#### Logistic Regression Model"
   ]
  },
  {
   "cell_type": "code",
   "execution_count": 41,
   "metadata": {},
   "outputs": [
    {
     "data": {
      "text/plain": [
       "LogisticRegression(C=1.0, class_weight=None, dual=False, fit_intercept=True,\n",
       "                   intercept_scaling=1, l1_ratio=None, max_iter=100,\n",
       "                   multi_class='warn', n_jobs=None, penalty='l2',\n",
       "                   random_state=5000, solver='warn', tol=0.0001, verbose=0,\n",
       "                   warm_start=False)"
      ]
     },
     "execution_count": 41,
     "metadata": {},
     "output_type": "execute_result"
    }
   ],
   "source": [
    "Logistic_Regression = LogisticRegression(random_state=SEED)\n",
    "Logistic_Regression.fit(x_tune,y_tune)"
   ]
  },
  {
   "cell_type": "code",
   "execution_count": 43,
   "metadata": {},
   "outputs": [
    {
     "name": "stdout",
     "output_type": "stream",
     "text": [
      "[[144   0]\n",
      " [  0  13]]\n",
      "Accuracy of tune set: 1.0\n"
     ]
    },
    {
     "data": {
      "image/png": "[encoded data removed]",
      "text/plain": [
       "<Figure size 432x288 with 1 Axes>"
      ]
     },
     "metadata": {
      "needs_background": "light"
     },
     "output_type": "display_data"
    },
    {
     "name": "stdout",
     "output_type": "stream",
     "text": [
      "              precision    recall  f1-score   support\n",
      "\n",
      "          -1       1.00      1.00      1.00       144\n",
      "           1       1.00      1.00      1.00        13\n",
      "\n",
      "    accuracy                           1.00       157\n",
      "   macro avg       1.00      1.00      1.00       157\n",
      "weighted avg       1.00      1.00      1.00       157\n",
      "\n"
     ]
    }
   ],
   "source": [
    "metrics(Logistic_Regression,x_tune,y_tune)"
   ]
  },
  {
   "cell_type": "markdown",
   "metadata": {},
   "source": [
    "### SVM Model"
   ]
  },
  {
   "cell_type": "code",
   "execution_count": 47,
   "metadata": {},
   "outputs": [
    {
     "data": {
      "text/plain": [
       "LinearSVC(C=0.01, class_weight=None, dual=False, fit_intercept=True,\n",
       "          intercept_scaling=1, loss='squared_hinge', max_iter=1000,\n",
       "          multi_class='ovr', penalty='l1', random_state=None, tol=0.0001,\n",
       "          verbose=0)"
      ]
     },
     "execution_count": 47,
     "metadata": {},
     "output_type": "execute_result"
    }
   ],
   "source": [
    "lsvc_lasso = LinearSVC(C=0.01,penalty=\"l1\",dual = False)\n",
    "lsvc_lasso.fit(x_tune,y_tune)"
   ]
  },
  {
   "cell_type": "code",
   "execution_count": 49,
   "metadata": {},
   "outputs": [
    {
     "name": "stdout",
     "output_type": "stream",
     "text": [
      "[[144   0]\n",
      " [  1  12]]\n",
      "Accuracy of tune set: 0.9936305732484076\n",
      "              precision    recall  f1-score   support\n",
      "\n",
      "          -1       0.99      1.00      1.00       144\n",
      "           1       1.00      0.92      0.96        13\n",
      "\n",
      "    accuracy                           0.99       157\n",
      "   macro avg       1.00      0.96      0.98       157\n",
      "weighted avg       0.99      0.99      0.99       157\n",
      "\n"
     ]
    }
   ],
   "source": [
    "y_tune_pred = lsvc_lasso.predict(x_tune)\n",
    "cm = confusion_matrix(y_true=y_tune,y_pred=y_tune_pred)\n",
    "print(cm)\n",
    "    \n",
    "accuracyScore = accuracy_score(y_true=y_tune,y_pred=y_tune_pred)\n",
    "print('Accuracy of tune set: ' + str(accuracyScore))    \n",
    "    \n",
    "#Classification Report\n",
    "print(classification_report(y_true=y_tune,y_pred=y_tune_pred))"
   ]
  },
  {
   "cell_type": "code",
   "execution_count": null,
   "metadata": {},
   "outputs": [],
   "source": []
  }
 ],
 "metadata": {
  "kernelspec": {
   "display_name": "Python 3",
   "language": "python",
   "name": "python3"
  },
  "language_info": {
   "codemirror_mode": {
    "name": "ipython",
    "version": 3
   },
   "file_extension": ".py",
   "mimetype": "text/x-python",
   "name": "python",
   "nbconvert_exporter": "python",
   "pygments_lexer": "ipython3",
   "version": "3.7.4"
  }
 },
 "nbformat": 4,
 "nbformat_minor": 2
}
